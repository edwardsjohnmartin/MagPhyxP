{
 "cells": [
  {
   "cell_type": "code",
   "execution_count": 17,
   "metadata": {},
   "outputs": [
    {
     "data": {
      "text/plain": [
       "0.08286955533762212"
      ]
     },
     "execution_count": 17,
     "metadata": {},
     "output_type": "execute_result"
    }
   ],
   "source": [
    "import math\n",
    "\n",
    "def calculate_pr(r, theta, phi, ptheta, pphi, energy):\n",
    "  pr2 = abs(2*energy + (math.cos(phi)+3*math.cos(phi-2*theta))/\n",
    "        (6*r*r*r)-ptheta*ptheta/(r*r)-10*pphi*pphi);\n",
    "  return math.sqrt(pr2);\n",
    "\n",
    "calculate_pr(r=1, theta=0, phi=0, ptheta=-0.0411104287, pphi=0.026001, energy=-0.1913)\n",
    "calculate_pr(r=1, theta=0, phi=0, ptheta=-0.3557069348, pphi=0.2300000010, energy=-0.0021359377)\n"
   ]
  },
  {
   "cell_type": "code",
   "execution_count": 21,
   "metadata": {},
   "outputs": [
    {
     "name": "stdout",
     "output_type": "stream",
     "text": [
      "f=     3.942347676677306e-10\n",
      "ptheta=-0.3557069346499625\n",
      "pphi=  0.23000000100581416\n",
      "rocking number=0\n",
      "rocking in phase=0\n",
      "?initparams=1,0,0,0.08286955582027028,-0.3557069346499625,0.23000000100581416\n"
     ]
    }
   ],
   "source": [
    "import magphyxp\n",
    "\n",
    "VARY_PTHETA_PPHI = 0\n",
    "VARY_PTHETA_ENERGY = 1\n",
    "\n",
    "ptheta = 0.1\n",
    "pphi = 0.1\n",
    "energy = -1/3 + 0.01\n",
    "\n",
    "energy = -0.06882464028127797\n",
    "ptheta = -1.2900843396278387e-09\n",
    "pphi = 1e-09\n",
    "\n",
    "energy = -0.1526706856029492\n",
    "ptheta = -1.5859083516759186e-09\n",
    "pphi = 1e-09\n",
    "\n",
    "energy = -0.0021359377\n",
    "ptheta = -0.3557069348\n",
    "pphi = 0.2300000010\n",
    "\n",
    "if True:\n",
    "    m = magphyxp.calculate_min(ptheta, pphi, 10, energy, 0.00001, VARY_PTHETA_PPHI, .000002)\n",
    "    ptheta = m.ptheta\n",
    "    pphi = m.pphi\n",
    "    energy = m.energy\n",
    "    print('f=     {}\\nptheta={}\\npphi=  {}\\nrocking number={}\\nrocking in phase={}'.format(\n",
    "        m.f, m.ptheta, m.pphi, m.rocking_number, m.rocking_in_phase))\n",
    "\n",
    "pr = calculate_pr(1, 0, 0, ptheta, pphi, energy)\n",
    "print('?initparams={},{},{},{},{},{}'.format(\n",
    "    1,0,0,pr,ptheta, pphi))\n"
   ]
  }
 ],
 "metadata": {
  "kernelspec": {
   "display_name": "Python 3",
   "language": "python",
   "name": "python3"
  },
  "language_info": {
   "codemirror_mode": {
    "name": "ipython",
    "version": 3
   },
   "file_extension": ".py",
   "mimetype": "text/x-python",
   "name": "python",
   "nbconvert_exporter": "python",
   "pygments_lexer": "ipython3",
   "version": "3.6.4"
  }
 },
 "nbformat": 4,
 "nbformat_minor": 2
}
