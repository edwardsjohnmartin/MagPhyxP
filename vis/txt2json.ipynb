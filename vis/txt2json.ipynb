{
 "cells": [
  {
   "cell_type": "markdown",
   "metadata": {},
   "source": [
    "# Convert raw txt output to JSON\n",
    "\n",
    "Columns in txt are:\n",
    "\n",
    "```bifurcation ID, number of bounces, pr, ptheta, pphi, energy, rocking number, in phase/out of phase, period```"
   ]
  },
  {
   "cell_type": "code",
   "execution_count": 190,
   "metadata": {},
   "outputs": [
    {
     "name": "stdout",
     "output_type": "stream",
     "text": [
      "set()\n",
      "{2, 7}\n",
      "{1, 2, 7, 14, 49}\n",
      "{2, 37}\n",
      "{1, 2, 37}\n"
     ]
    }
   ],
   "source": [
    "import math\n",
    "\n",
    "# Returns a set of all prime factors of n\n",
    "def primeFactors(n):\n",
    "    if (n == 0):\n",
    "        return set([])\n",
    "    factors = []\n",
    "\n",
    "    # Print the number of twos that divide n \n",
    "    while n % 2 == 0:\n",
    "        factors.append(2)\n",
    "        n = n // 2\n",
    "          \n",
    "    # n must be odd at this point \n",
    "    # so a skip of 2 (i = i + 2) can be used \n",
    "    for i in range(3, int(math.sqrt(n))+1, 2): \n",
    "        # while i divides n, print i and divide n\n",
    "        while n % i == 0:\n",
    "            factors.append(i)\n",
    "            n = n // i\n",
    "              \n",
    "    # Condition if n is a prime\n",
    "    # number greater than 2\n",
    "    if n > 2:\n",
    "        factors.append(n)\n",
    "    \n",
    "    return set(factors)\n",
    "\n",
    "# Returns a set of all factors of n\n",
    "def factors(n):\n",
    "    if (n == 0):\n",
    "        return set([])\n",
    "    \n",
    "    factors = []\n",
    "    for i in range(1, n//2+1):\n",
    "        if n % i == 0:\n",
    "            factors.append(i)\n",
    "    return set(factors)\n",
    "\n",
    "print(primeFactors(0))\n",
    "print(primeFactors(98))\n",
    "print(factors(98))\n",
    "\n",
    "print(primeFactors(74))\n",
    "print(factors(74))"
   ]
  },
  {
   "cell_type": "code",
   "execution_count": 40,
   "metadata": {},
   "outputs": [
    {
     "name": "stdout",
     "output_type": "stream",
     "text": [
      "True\n"
     ]
    }
   ],
   "source": [
    "a = {3:2, 5:4}\n",
    "print(5 in a)"
   ]
  },
  {
   "cell_type": "markdown",
   "metadata": {},
   "source": [
    "# Test code for something else"
   ]
  },
  {
   "cell_type": "code",
   "execution_count": null,
   "metadata": {},
   "outputs": [],
   "source": [
    "class BifLoc:\n",
    "    def __init__(self, E, m):\n",
    "        self.E = E\n",
    "        self.m = m\n",
    "\n",
    "# Does a binary search to find where E belongs in the bifurcation locations.\n",
    "# If the region is surrounded by two found bifurcations such that the\n",
    "# rocking numbers are next to each other, then the region is empty.\n",
    "# m_max is the maximum rocking number we're going to allow.\n",
    "def is_empty(E, bif_locs, m_max):\n",
    "    if E == 0:\n",
    "        return True\n",
    "    i = 0\n",
    "    j = len(bif_locs)\n",
    "    while j-i > 1:\n",
    "        k = (i+j)//2\n",
    "        if bif_locs[k].E <= E:\n",
    "            i = k\n",
    "        else:\n",
    "            j = k\n",
    "    if bif_locs[i].m == bif_locs[j].m-1 or bif_locs[i].m == m_max:\n",
    "        return True\n",
    "    return False\n",
    "\n",
    "bif_locs = [BifLoc(-1/3, 0), BifLoc(-.22, 3), BifLoc(-.1, 4), BifLoc(0, math.inf)]\n",
    "bif_locs[-1].E\n",
    "print(is_empty(-.2, bif_locs, 9) == True)\n",
    "print(is_empty(-.23, bif_locs, 9) == False)\n",
    "print(is_empty(-.22, bif_locs, 9) == True)\n",
    "print(is_empty(-.04, bif_locs, 9) == False)\n",
    "print(is_empty(-1/3, bif_locs, 9) == False)\n",
    "print(is_empty(0, bif_locs, 9) == True)\n",
    "\n",
    "print(is_empty(-.2, bif_locs, 4) == True)\n",
    "print(is_empty(-.23, bif_locs, 4) == False)\n",
    "print(is_empty(-.22, bif_locs, 4) == True)\n",
    "print(is_empty(-.04, bif_locs, 4) == True)\n",
    "print(is_empty(-1/3, bif_locs, 4) == False)\n",
    "print(is_empty(0, bif_locs, 4) == True)\n",
    "\n",
    "print(is_empty(-.2, bif_locs, 5) == True)\n",
    "print(is_empty(-.23, bif_locs, 5) == False)\n",
    "print(is_empty(-.22, bif_locs, 5) == True)\n",
    "print(is_empty(-.04, bif_locs, 5) == False)\n",
    "print(is_empty(-1/3, bif_locs, 5) == False)\n",
    "print(is_empty(0, bif_locs, 5) == True)\n"
   ]
  },
  {
   "cell_type": "code",
   "execution_count": 125,
   "metadata": {},
   "outputs": [
    {
     "name": "stdout",
     "output_type": "stream",
     "text": [
      "5\n",
      "9\n",
      "1\n",
      "7\n"
     ]
    }
   ],
   "source": [
    "import queue \n",
    "  \n",
    "# From class queue, Queue is \n",
    "# created as an object Now L \n",
    "# is Queue of a maximum  \n",
    "# capacity of 20 \n",
    "L = queue.Queue() \n",
    "  \n",
    "# Data is inserted into Queue \n",
    "# using put() Data is inserted \n",
    "# at the end \n",
    "L.put(5) \n",
    "L.put(9) \n",
    "L.put(1) \n",
    "L.put(7) \n",
    "  \n",
    "# get() takes data out from \n",
    "# the Queue from the head  \n",
    "# of the Queue \n",
    "print(L.get()) \n",
    "print(L.get()) \n",
    "print(L.get()) \n",
    "print(L.get()) "
   ]
  },
  {
   "cell_type": "markdown",
   "metadata": {},
   "source": [
    "# Simple conversion not checking for prime factors\n",
    "\n",
    "Use this one!"
   ]
  },
  {
   "cell_type": "code",
   "execution_count": 207,
   "metadata": {},
   "outputs": [
    {
     "name": "stdout",
     "output_type": "stream",
     "text": [
      "reading ./states001.txt\n",
      "reading ./states002.txt\n",
      "reading ./states003.txt\n",
      "reading ./states004.txt\n",
      "reading ./states005.txt\n",
      "reading ./states006.txt\n",
      "reading ./states007.txt\n",
      "reading ./states008.txt\n",
      "reading ./states009.txt\n",
      "reading ./states010.txt\n",
      "reading ./states011.txt\n",
      "reading ./states012.txt\n",
      "reading ./states013.txt\n",
      "reading ./states015.txt\n",
      "reading ./states016.txt\n",
      "reading ./states017.txt\n",
      "reading ./states023.txt\n",
      "reading ./states031.txt\n",
      "reading ./states032.txt\n",
      "reading ./states061.txt\n",
      "reading ./states063.txt\n",
      "reading ./states064.txt\n",
      "reading ./states127.txt\n",
      "reading ./states128.txt\n",
      "reading ./states998.txt\n",
      "reading ./states999.txt\n",
      "done\n"
     ]
    }
   ],
   "source": [
    "import json\n",
    "import re\n",
    "import os\n",
    "\n",
    "def convert():\n",
    "    data = []\n",
    "    for num_bounces in range(1, 1000):\n",
    "        fn = './states{:03d}.txt'.format(num_bounces)\n",
    "        exists = os. path. isfile(fn)\n",
    "        if exists:\n",
    "            with open(fn, 'r') as infile:\n",
    "                print('reading {}'.format(fn))\n",
    "                for line in infile:\n",
    "                    line = line.strip()\n",
    "                    (mode_id, n, pr, ptheta, pphi, E, ptheta_rocking, pphi_rocking, phase, period) = line.split(' ')\n",
    "                    state = { 'id':int(mode_id), 'n':int(n), 'pr':float(pr),\n",
    "                             'ptheta':float(ptheta), 'pphi':float(pphi), 'E':float(E),\n",
    "                             'ptheta_rocking':int(ptheta_rocking), 'pphi_rocking':int(pphi_rocking),\n",
    "                             'phase':int(phase), 'period':float(period) }\n",
    "                    data.append(state)\n",
    "\n",
    "    with open('./states_all.json', 'w') as outfile:  \n",
    "        json.dump(data, outfile)\n",
    "\n",
    "    print('done')\n",
    "\n",
    "convert()\n",
    "# %timeit convert()"
   ]
  },
  {
   "cell_type": "markdown",
   "metadata": {},
   "source": [
    "# Check for factors"
   ]
  },
  {
   "cell_type": "code",
   "execution_count": null,
   "metadata": {
    "scrolled": false
   },
   "outputs": [],
   "source": [
    "import json\n",
    "import re\n",
    "\n",
    "def convert():\n",
    "    state_map = {}\n",
    "#     pfactors = [primeFactors(i) for i in range(129)]\n",
    "    pfactors = [factors(i) for i in range(129)]\n",
    "    cur_mode = -1\n",
    "    skip_mode = False\n",
    "    data = []\n",
    "    with open('./states.txt', 'r') as infile:\n",
    "        for line in infile:\n",
    "            line = line.strip()\n",
    "            (mode_id, n, pr, ptheta, pphi, E, rocking, phase, period) = line.split(' ')\n",
    "            mode_id = int(mode_id)\n",
    "            n = int(n)\n",
    "            E = float(E)\n",
    "            rocking = int(rocking)\n",
    "            state = { 'id':int(mode_id), 'n':int(n), 'pr':float(pr),\n",
    "                         'ptheta':float(ptheta), 'pphi':float(pphi), 'E':float(E),\n",
    "                         'rocking':int(rocking), 'phase':int(phase), 'period':float(period) }\n",
    "            \n",
    "            if mode_id != cur_mode:\n",
    "                # Look to see if a prime factor of n already added this state. This functionality relies on\n",
    "                # the text data coming to being sorted on n.\n",
    "                unique = True\n",
    "                for factor_n in pfactors[n]:\n",
    "                    if (unique and (rocking//(n//factor_n), factor_n) in state_map):\n",
    "                        # A prime factor bouncing number has a mode with this rocking number.\n",
    "                        # Check to see if it is the same mode.\n",
    "                        prev_state = state_map[(rocking//(n//factor_n), factor_n)]\n",
    "                        if abs(prev_state['E'] - state['E']) < 0.001:\n",
    "                            # The current state is redundant. Ignore.\n",
    "                            unique = False\n",
    "                            print('Filtering out ({},{},{},{}) from ({},{},{},{})'.format(\n",
    "                                prev_state['n'], prev_state['rocking'], prev_state['E'], prev_state['pphi'],\n",
    "                                state['n'], state['rocking'], state['E'], state['pphi']))\n",
    "                if unique:\n",
    "                    state_map[(rocking, n)] = state\n",
    "                    data.append(state)\n",
    "                    skip_mode = False\n",
    "                else:\n",
    "                    skip_mode = True\n",
    "            elif not skip_mode:\n",
    "                data.append(state)\n",
    "            \n",
    "            cur_mode = mode_id\n",
    "\n",
    "    with open('./states_unique.json', 'w') as outfile:  \n",
    "        json.dump(data, outfile)\n",
    "\n",
    "    print('done')\n",
    "\n",
    "convert()\n",
    "# %timeit convert()"
   ]
  }
 ],
 "metadata": {
  "kernelspec": {
   "display_name": "Python 3",
   "language": "python",
   "name": "python3"
  },
  "language_info": {
   "codemirror_mode": {
    "name": "ipython",
    "version": 3
   },
   "file_extension": ".py",
   "mimetype": "text/x-python",
   "name": "python",
   "nbconvert_exporter": "python",
   "pygments_lexer": "ipython3",
   "version": "3.6.4"
  }
 },
 "nbformat": 4,
 "nbformat_minor": 2
}
