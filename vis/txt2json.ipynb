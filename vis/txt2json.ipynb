{
 "cells": [
  {
   "cell_type": "markdown",
   "metadata": {},
   "source": [
    "# Convert raw txt output to JSON\n",
    "\n",
    "Columns in txt are:\n",
    "\n",
    "```bifurcation ID, number of bounces, pr, ptheta, pphi, energy, rocking number, in phase/out of phase, period```"
   ]
  },
  {
   "cell_type": "code",
   "execution_count": 1,
   "metadata": {},
   "outputs": [
    {
     "name": "stdout",
     "output_type": "stream",
     "text": [
      "done\n"
     ]
    }
   ],
   "source": [
    "import json\n",
    "import re\n",
    "\n",
    "data = []\n",
    "bids = []\n",
    "energies = []\n",
    "with open('./bifurcation.txt', 'r') as infile:\n",
    "    for line in infile:\n",
    "        line = line.strip()\n",
    "        (bid, n, pr, ptheta, pphi, E, rocking, phase, period) = line.split(' ')\n",
    "        bids.append(bid)\n",
    "        data.append({ 'id':int(bid), 'n':int(n), 'pr':float(pr),\n",
    "                     'ptheta':float(ptheta), 'pphi':float(pphi), 'E':float(E),\n",
    "                     'rocking':int(rocking), 'phase':int(phase), 'period':float(period)})\n",
    "        energies.append(float(E))\n",
    "\n",
    "with open('./bifurcation.json', 'w') as outfile:  \n",
    "    json.dump(data, outfile)\n",
    "print('done')"
   ]
  }
 ],
 "metadata": {
  "kernelspec": {
   "display_name": "Python 3",
   "language": "python",
   "name": "python3"
  },
  "language_info": {
   "codemirror_mode": {
    "name": "ipython",
    "version": 3
   },
   "file_extension": ".py",
   "mimetype": "text/x-python",
   "name": "python",
   "nbconvert_exporter": "python",
   "pygments_lexer": "ipython3",
   "version": "3.6.4"
  }
 },
 "nbformat": 4,
 "nbformat_minor": 2
}
