{
 "cells": [
  {
   "cell_type": "markdown",
   "metadata": {},
   "source": [
    "# Convert raw txt output to JSON\n",
    "\n",
    "Columns in txt are:\n",
    "\n",
    "```bifurcation ID, number of bounces, pr, ptheta, pphi, energy, rocking number, in phase/out of phase, period```"
   ]
  },
  {
   "cell_type": "code",
   "execution_count": null,
   "metadata": {},
   "outputs": [],
   "source": [
    "import json\n",
    "import re\n",
    "\n",
    "data = []\n",
    "bids = []\n",
    "energies = []\n",
    "with open('./vis/bifurcation.txt', 'r') as infile:\n",
    "    for line in infile:\n",
    "#         print(line)\n",
    "        line = line.strip()\n",
    "        (bid, n, pr, ptheta, pphi, E, rocking, phase) = line.split(' ')\n",
    "        bids.append(bid)\n",
    "        data.append({ 'id':int(bid), 'n':int(n), 'pr':float(pr), 'ptheta':float(ptheta), 'pphi':float(pphi),'E':float(E) })\n",
    "        energies.append(float(E))\n",
    "#         if 'Bounces' in line:\n",
    "#             bounces = {\n",
    "#                 'numBounces' : int(line.split(' ')[1]),\n",
    "#                 'energies' : []\n",
    "#             }\n",
    "#             data.append(bounces)\n",
    "#         if 'start' in line:\n",
    "# #             print(re.split(' |,|:', line))\n",
    "#             (_,_,startE,_,ptheta,_,pphi,_,E,_,fval,_,t) = re.split(' |,|:', line)\n",
    "#             (startE,ptheta,pphi,E,fval,t) = map(lambda x:float(x), (startE,ptheta,pphi,E,fval,t))\n",
    "# #             print(startE,ptheta,pphi,E,fval)\n",
    "#             energy = {\n",
    "#                 'energy' : E,\n",
    "#                 'minima' : []\n",
    "#             }\n",
    "#             bounces['energies'].append(energy)\n",
    "            \n",
    "#             r = 1\n",
    "#             theta = 0\n",
    "#             phi = 0\n",
    "#             pr = 2*E + 2/3 - ptheta**2 - 10*pphi**2\n",
    "\n",
    "#             values = {\n",
    "#                 'r' : r,\n",
    "#                 'theta' : theta,\n",
    "#                 'phi' : phi,\n",
    "#                 'pr' : pr,\n",
    "#                 'ptheta' : ptheta,\n",
    "#                 'pphi' : pphi,\n",
    "#                 't' : t\n",
    "#             }\n",
    "#             energy['minima'].append(values)\n",
    "# #         if 'new' in line:\n",
    "# #             v = [float(x) for x in line.split(',')[1:]]\n",
    "# #             values = {\n",
    "# #                 'r' : v[0],\n",
    "# #                 'theta' : v[1],\n",
    "# #                 'phi' : v[2],\n",
    "# #                 'pr' : v[3],\n",
    "# #                 'ptheta' : v[4],\n",
    "# #                 'pphi' : v[5]\n",
    "# #             }\n",
    "# #             energy['minima'].append(values)\n",
    "\n",
    "print(set(bids))\n",
    "print(sorted(energies))\n",
    "with open('./vis/bifurcation.json', 'w') as outfile:  \n",
    "    json.dump(data, outfile)\n",
    "print('done')"
   ]
  }
 ],
 "metadata": {
  "kernelspec": {
   "display_name": "Python 3",
   "language": "python",
   "name": "python3"
  },
  "language_info": {
   "codemirror_mode": {
    "name": "ipython",
    "version": 3
   },
   "file_extension": ".py",
   "mimetype": "text/x-python",
   "name": "python",
   "nbconvert_exporter": "python",
   "pygments_lexer": "ipython3",
   "version": "3.6.4"
  }
 },
 "nbformat": 4,
 "nbformat_minor": 2
}
